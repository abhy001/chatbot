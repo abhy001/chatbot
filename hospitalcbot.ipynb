{
  "cells": [
    {
      "cell_type": "code",
      "execution_count": null,
      "metadata": {
        "colab": {
          "base_uri": "https://localhost:8080/"
        },
        "id": "Qe8pgNAHFWyZ",
        "outputId": "4a3be793-7afb-497a-c733-d53aeb3c3ca0"
      },
      "outputs": [
        {
          "metadata": {
            "tags": null
          },
          "name": "stdout",
          "output_type": "stream",
          "text": [
            "Hospital Chatbot: Hello! How can I assist you today?\n",
            "Hospital Chatbot: Paracetamol is available.\n",
            "Hospital Chatbot: The hospital is located at 123 Main Street.\n",
            "Hospital Chatbot: Dr. John is available from 2 PM to 6 PM.\n",
            "Hospital Chatbot: Dr. John is available from 2 PM to 6 PM.\n"
          ]
        }
      ],
      "source": [
        "import nltk\n",
        "import numpy as np\n",
        "import random\n",
        "import json\n",
        "from sklearn.feature_extraction.text import TfidfVectorizer\n",
        "from sklearn.metrics.pairwise import cosine_similarity\n",
        "\n",
        "# Sample dataset for hospital-related information\n",
        "intents = {\n",
        "    \"intents\": [\n",
        "        {\"intent\": \"doctor_schedule\", \"patterns\": [\"What time does Dr. Smith work?\", \"When is Dr. John available?\", \"Dr. Doe's timings\"],\n",
        "         \"responses\": [\"Dr. Smith is available from 9 AM to 1 PM.\", \"Dr. John is available from 2 PM to 6 PM.\", \"Dr. Doe is available from 10 AM to 4 PM.\"]},\n",
        "\n",
        "        {\"intent\": \"medicine_availability\", \"patterns\": [\"Is Paracetamol in stock?\", \"Do you have Aspirin?\", \"Is ibuprofen available?\"],\n",
        "         \"responses\": [\"Paracetamol is available.\", \"Aspirin is out of stock.\", \"Ibuprofen is available in the pharmacy.\"],\n",
        "        },\n",
        "\n",
        "        {\"intent\": \"general_inquiry\", \"patterns\": [\"What are your working hours?\", \"What services do you provide?\", \"Where is the hospital located?\"],\n",
        "         \"responses\": [\"We are open 24/7.\", \"We provide a range of services including emergency care, outpatient clinics, and pharmacy.\", \"The hospital is located at 123 Main Street.\"],\n",
        "        },\n",
        "\n",
        "        {\"intent\": \"no_answer\", \"patterns\": [], \"responses\": [\"Sorry, I couldn't understand that. Could you rephrase?\"]}\n",
        "    ]\n",
        "}\n",
        "\n",
        "# Preprocess data\n",
        "def preprocess_data(intents):\n",
        "    sentences = []\n",
        "    labels = []\n",
        "    for intent in intents['intents']:\n",
        "        for pattern in intent['patterns']:\n",
        "            sentences.append(pattern)\n",
        "            labels.append(intent['intent'])\n",
        "    return sentences, labels\n",
        "\n",
        "# Train chatbot using TF-IDF\n",
        "def train_chatbot():\n",
        "    sentences, labels = preprocess_data(intents)\n",
        "    vectorizer = TfidfVectorizer()\n",
        "    X = vectorizer.fit_transform(sentences)  # Convert sentences to vectors\n",
        "    return vectorizer, X, labels, sentences\n",
        "\n",
        "# Get response from chatbot\n",
        "def chatbot_response(user_input, vectorizer, X, labels, sentences):\n",
        "    user_input_vec = vectorizer.transform([user_input])  # Convert user input to vector\n",
        "    similarity = cosine_similarity(user_input_vec, X)\n",
        "    response_index = np.argmax(similarity)\n",
        "    intent = labels[response_index]\n",
        "\n",
        "    # Find corresponding response for the identified intent\n",
        "    for intent_data in intents['intents']:\n",
        "        if intent_data['intent'] == intent:\n",
        "            return random.choice(intent_data['responses'])\n",
        "\n",
        "    return random.choice(intents['intents'][-1]['responses'])  # Default response\n",
        "\n",
        "# Main chat loop\n",
        "def chat():\n",
        "    print(\"Hospital Chatbot: Hello! How can I assist you today?\")\n",
        "    vectorizer, X, labels, sentences = train_chatbot()\n",
        "\n",
        "    while True:\n",
        "        user_input = input(\"You: \")\n",
        "        if user_input.lower() == 'quit':\n",
        "            print(\"Hospital Chatbot: Goodbye!\")\n",
        "            break\n",
        "        response = chatbot_response(user_input, vectorizer, X, labels, sentences)\n",
        "        print(\"Hospital Chatbot:\", response)\n",
        "\n",
        "# Run the chatbot\n",
        "chat()\n"
      ]
    }
  ],
  "metadata": {
    "colab": {
      "provenance": [],
      "authorship_tag": "ABX9TyP0mORblbK9IGU6eHxxs4+d"
    },
    "kernelspec": {
      "display_name": "Python 3",
      "name": "python3"
    },
    "language_info": {
      "name": "python"
    }
  },
  "nbformat": 4,
  "nbformat_minor": 0
}
